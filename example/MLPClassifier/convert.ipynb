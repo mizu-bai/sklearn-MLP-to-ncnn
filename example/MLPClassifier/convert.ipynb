{
 "cells": [
  {
   "cell_type": "code",
   "execution_count": 1,
   "metadata": {},
   "outputs": [],
   "source": [
    "import joblib\n",
    "import ncnn\n",
    "import numpy as np\n",
    "\n",
    "from sklearn.datasets import fetch_openml\n",
    "\n",
    "from skl2onnx import to_onnx\n",
    "from skl_mlp2ncnn import convert"
   ]
  },
  {
   "cell_type": "code",
   "execution_count": 2,
   "metadata": {},
   "outputs": [],
   "source": [
    "# load data\n",
    "X, y = fetch_openml(\n",
    "    \"mnist_784\", version=1, return_X_y=True, as_frame=False, parser=\"pandas\"\n",
    ")\n",
    "\n",
    "X = X / 255.0"
   ]
  },
  {
   "cell_type": "code",
   "execution_count": 3,
   "metadata": {},
   "outputs": [],
   "source": [
    "# load model and infer with scikit-learn\n",
    "classifier = joblib.load(\"mnist_classifier.pkl\")\n",
    "label_skl = classifier.predict(X[:1])\n",
    "proba_skl = classifier.predict_proba(X[:1])"
   ]
  },
  {
   "cell_type": "code",
   "execution_count": 4,
   "metadata": {},
   "outputs": [],
   "source": [
    "# convert to onnx\n",
    "onx = to_onnx(classifier, X[:1])\n",
    "\n",
    "with open(\"mnist_classifier.onnx\", \"wb\") as f:\n",
    "    f.write(onx.SerializeToString())"
   ]
  },
  {
   "cell_type": "code",
   "execution_count": 5,
   "metadata": {},
   "outputs": [
    {
     "name": "stdout",
     "output_type": "stream",
     "text": [
      "Input model is MLPClassfier model.\n",
      "classes will be saved to file mnist.txt.\n",
      "================================================================================\n",
      "                                      INFO                                      \n",
      "--------------------------------------------------------------------------------\n",
      "    Layer 1: Input\n",
      "        Input shape: (784,)\n",
      "--------------------------------------------------------------------------------\n",
      "    Layer 2: InnerProduct\n",
      "        Output shape: (512,)\n",
      "--------------------------------------------------------------------------------\n",
      "    Layer 3: ReLU\n",
      "--------------------------------------------------------------------------------\n",
      "    Layer 4: InnerProduct\n",
      "        Output shape: (512,)\n",
      "--------------------------------------------------------------------------------\n",
      "    Layer 5: ReLU\n",
      "--------------------------------------------------------------------------------\n",
      "    Layer 6: InnerProduct\n",
      "        Output shape: (10,)\n",
      "--------------------------------------------------------------------------------\n",
      "    Layer 7: Softmax\n",
      "--------------------------------------------------------------------------------\n",
      "    Classes: ['0' '1' '2' '3' '4' '5' '6' '7' '8' '9']\n",
      "================================================================================\n",
      "Done! Model converted to mnist_classifier.param and mnist_classifier.bin.\n",
      "Class table saved to mnist.txt.\n"
     ]
    },
    {
     "data": {
      "text/plain": [
       "('mnist_classifier.param', 'mnist_classifier.bin')"
      ]
     },
     "execution_count": 5,
     "metadata": {},
     "output_type": "execute_result"
    }
   ],
   "source": [
    "# convert\n",
    "convert(\n",
    "    skl_mlp=classifier,\n",
    "    ncnn=\"mnist_classifier\",\n",
    "    class_table=\"mnist.txt\",\n",
    "    verbose=True\n",
    ")"
   ]
  },
  {
   "cell_type": "code",
   "execution_count": 6,
   "metadata": {},
   "outputs": [],
   "source": [
    "# load ncnn model\n",
    "with ncnn.Net() as net:\n",
    "    net.load_param(\"mnist_classifier.param\")\n",
    "    net.load_model(\"mnist_classifier.bin\")\n",
    "\n",
    "    with net.create_extractor() as ex:\n",
    "        ex.input(\"input_blob\", ncnn.Mat(X[0].astype(np.float32)))\n",
    "        _, out = ex.extract(\"layer_2_softmax_blob\")\n",
    "\n",
    "proba_ncnn = np.array(out)\n",
    "\n",
    "class_table = np.loadtxt(\"mnist.txt\", dtype=\"<U1\").reshape((-1, 1))\n",
    "label_ncnn = class_table[np.argmax(proba_ncnn)]"
   ]
  },
  {
   "cell_type": "code",
   "execution_count": 7,
   "metadata": {},
   "outputs": [
    {
     "name": "stdout",
     "output_type": "stream",
     "text": [
      "scikit-learn:\n",
      "    label: ['5']\n",
      "    probability: [[2.17463843e-15 3.10142755e-12 6.31065117e-11 3.05429930e-04\n",
      "  1.52861992e-22 9.99694570e-01 1.36513153e-15 5.91957558e-15\n",
      "  1.02861526e-14 1.24418613e-12]]\n",
      "ncnn:\n",
      "    label: ['5']\n",
      "    probability: [2.22792789e-15 3.16377133e-12 6.41421222e-11 3.06921516e-04\n",
      " 1.58592659e-22 9.99693155e-01 1.39784958e-15 6.05439754e-15\n",
      " 1.05316765e-14 1.26826490e-12]\n"
     ]
    }
   ],
   "source": [
    "# summary\n",
    "print(\"scikit-learn:\")\n",
    "print(f\"    label: {label_skl}\")\n",
    "print(f\"    probability: {proba_skl}\")\n",
    "\n",
    "print(\"ncnn:\")\n",
    "print(f\"    label: {label_ncnn}\")\n",
    "print(f\"    probability: {proba_ncnn}\")"
   ]
  },
  {
   "cell_type": "code",
   "execution_count": null,
   "metadata": {},
   "outputs": [],
   "source": []
  }
 ],
 "metadata": {
  "kernelspec": {
   "display_name": "chem-env",
   "language": "python",
   "name": "python3"
  },
  "language_info": {
   "codemirror_mode": {
    "name": "ipython",
    "version": 3
   },
   "file_extension": ".py",
   "mimetype": "text/x-python",
   "name": "python",
   "nbconvert_exporter": "python",
   "pygments_lexer": "ipython3",
   "version": "3.9.18"
  }
 },
 "nbformat": 4,
 "nbformat_minor": 2
}
