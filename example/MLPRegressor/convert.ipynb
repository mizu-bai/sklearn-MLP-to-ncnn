{
 "cells": [
  {
   "cell_type": "code",
   "execution_count": 1,
   "metadata": {},
   "outputs": [],
   "source": [
    "import numpy as np\n",
    "import ncnn\n",
    "import joblib\n",
    "\n",
    "from sklearn.datasets import fetch_openml\n",
    "from sklearn.metrics.pairwise import cosine_similarity\n",
    "\n",
    "from skl2onnx import to_onnx\n",
    "from skl_mlp2ncnn import convert"
   ]
  },
  {
   "cell_type": "code",
   "execution_count": 2,
   "metadata": {},
   "outputs": [],
   "source": [
    "# load data\n",
    "X, y = fetch_openml(\n",
    "    name=\"mnist_784\",\n",
    "    version=1,\n",
    "    return_X_y=True,\n",
    "    as_frame=False,\n",
    "    parser=\"pandas\",\n",
    ")\n",
    "\n",
    "X = X / 255.0"
   ]
  },
  {
   "cell_type": "code",
   "execution_count": 4,
   "metadata": {},
   "outputs": [],
   "source": [
    "# load model and infer with scikit-learn\n",
    "autoencoder = joblib.load(\"mnist_autoencoder.pkl\")\n",
    "X_pred_skl = autoencoder.predict(X[:1])"
   ]
  },
  {
   "cell_type": "code",
   "execution_count": 5,
   "metadata": {},
   "outputs": [],
   "source": [
    "# convert to onnx\n",
    "onx = to_onnx(autoencoder, X[:1])\n",
    "\n",
    "with open(\"mnist_autoencoder.onnx\", \"wb\") as f:\n",
    "    f.write(onx.SerializeToString())"
   ]
  },
  {
   "cell_type": "code",
   "execution_count": 6,
   "metadata": {},
   "outputs": [
    {
     "name": "stdout",
     "output_type": "stream",
     "text": [
      "Input model is MLPRegressor model.\n",
      "================================================================================\n",
      "                                      INFO                                      \n",
      "--------------------------------------------------------------------------------\n",
      "    Layer 1: Input\n",
      "        Input shape: (784,)\n",
      "--------------------------------------------------------------------------------\n",
      "    Layer 2: InnerProduct\n",
      "        Output shape: (64,)\n",
      "--------------------------------------------------------------------------------\n",
      "    Layer 3: ReLU\n",
      "--------------------------------------------------------------------------------\n",
      "    Layer 4: InnerProduct\n",
      "        Output shape: (784,)\n",
      "================================================================================\n",
      "Done! Model converted to mnist_autoencoder.param and mnist_autoencoder.bin.\n"
     ]
    }
   ],
   "source": [
    "# convert to ncnn\n",
    "ncnn_param, ncnn_bin = convert(\n",
    "    skl_mlp=autoencoder,\n",
    "    ncnn=\"mnist_autoencoder\",\n",
    "    verbose=True\n",
    ")"
   ]
  },
  {
   "cell_type": "code",
   "execution_count": 7,
   "metadata": {},
   "outputs": [
    {
     "name": "stdout",
     "output_type": "stream",
     "text": [
      "param file: mnist_autoencoder.param\n",
      "bin file: mnist_autoencoder.bin\n"
     ]
    }
   ],
   "source": [
    "print(f\"param file: {ncnn_param}\")\n",
    "print(f\"bin file: {ncnn_bin}\")"
   ]
  },
  {
   "cell_type": "code",
   "execution_count": 8,
   "metadata": {},
   "outputs": [],
   "source": [
    "# load ncnn model\n",
    "with ncnn.Net() as net:\n",
    "    net.load_param(ncnn_param)\n",
    "    net.load_model(ncnn_bin)\n",
    "\n",
    "    with net.create_extractor() as ex:\n",
    "        ex.input(\"input_blob\", ncnn.Mat(X[0].astype(np.float32)))\n",
    "        _, out = ex.extract(\"layer_1_blob\")\n",
    "\n",
    "X_pred_ncnn = np.array(out).reshape((1, -1))"
   ]
  },
  {
   "cell_type": "code",
   "execution_count": 9,
   "metadata": {},
   "outputs": [
    {
     "data": {
      "text/plain": [
       "array([[0.99999993]])"
      ]
     },
     "execution_count": 9,
     "metadata": {},
     "output_type": "execute_result"
    }
   ],
   "source": [
    "# cosine similarity\n",
    "cosine_similarity(X_pred_skl, X_pred_ncnn)"
   ]
  },
  {
   "cell_type": "code",
   "execution_count": null,
   "metadata": {},
   "outputs": [],
   "source": []
  }
 ],
 "metadata": {
  "kernelspec": {
   "display_name": "chem-env",
   "language": "python",
   "name": "python3"
  },
  "language_info": {
   "codemirror_mode": {
    "name": "ipython",
    "version": 3
   },
   "file_extension": ".py",
   "mimetype": "text/x-python",
   "name": "python",
   "nbconvert_exporter": "python",
   "pygments_lexer": "ipython3",
   "version": "3.9.18"
  }
 },
 "nbformat": 4,
 "nbformat_minor": 2
}
